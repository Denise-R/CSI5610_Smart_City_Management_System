{
  "nbformat": 4,
  "nbformat_minor": 0,
  "metadata": {
    "colab": {
      "provenance": []
    },
    "kernelspec": {
      "name": "python3",
      "display_name": "Python 3"
    },
    "language_info": {
      "name": "python"
    }
  },
  "cells": [
    {
      "cell_type": "markdown",
      "source": [
        "Asad Vakil\n",
        "\n",
        "APM 5610\n",
        "\n",
        "Project 1: Medium Level\n",
        "\n",
        "Ones and Zeros"
      ],
      "metadata": {
        "id": "gBEGF-SdPnBG"
      }
    },
    {
      "cell_type": "code",
      "source": [
        "# Code for #36: Ones and Zeros\n",
        "\n",
        "# Count number of 0s:\n",
        "def Zeros_Counter(input_string):\n",
        "    number_of_zeros = 0\n",
        "    # Iterate over characters of string\n",
        "    for i in range(len(input_string)):\n",
        "        # If current character is '0'\n",
        "        if (input_string[i] == '0'):\n",
        "            number_of_zeros += 1\n",
        "    # once its done, give total number of 0s\n",
        "    return number_of_zeros\n",
        "\n",
        "# Count number of 1s:\n",
        "def Ones_Counter(input_string):\n",
        "    number_of_ones = 0\n",
        "    # Iterate over characters of string\n",
        "    for i in range(len(input_string)):\n",
        "        # If current character is '1'\n",
        "        if (input_string[i] == '1'):\n",
        "            number_of_ones += 1\n",
        "    # once its done, give total number of 1s\n",
        "    return number_of_ones\n",
        "\n",
        "# Function that handles solving the problem, setting digit_counter at 0:\n",
        "def number_36(binary_string, m, n, digit_counter):\n",
        "    # Conditions:\n",
        "    if (digit_counter == len(binary_string) or m + n == 0):\n",
        "        return 0\n",
        "    # Optimizing to reduce number of 0s and 1s:\n",
        "    counter_included = 0 # stores subset length if the original array is included\n",
        "    # Setup for counting ones and zeros\n",
        "    zero = Zeros_Counter(binary_string[digit_counter]) # Count 0s\n",
        "    one = len(binary_string[digit_counter]) - zero # Count 1s \n",
        "    # Starts working up:\n",
        "    if (zero <= m and one <= n):\n",
        "        counter_included  = 1 + number_36(binary_string, m - zero, n - one, digit_counter + 1)\n",
        "    # call on function again to optimize for next best scenario:\n",
        "    counter_excluded = number_36(binary_string, m, n, digit_counter + 1) # stores subset length if the original array is excluded\n",
        "    # Largest of the values:\n",
        "    return max(counter_included, counter_excluded)\n",
        " \n",
        "# Actually runs the entire problem #36:\n",
        "def Project_1_Evaluation(strs, m, n):\n",
        "    # using input string, number of 0s, and number of 1s, find largest subset to meet conditions:\n",
        "    return number_36(strs, m, n, 0)\n",
        "\n",
        "def resource_allocation ():\n",
        "  # Asks for input and calls function:\n",
        "  strs = list()\n",
        "  strs_size_var = input('How many instances of resources are there to accomodate?\\n')\n",
        "  for i in range(int(strs_size_var)):\n",
        "    element_input = input('What is the next binary value?\\n')\n",
        "    strs.append(element_input)\n",
        "    print(strs)  \n",
        "  #strs=np.asarray(strs)\n",
        "  m=input('What is the maximum number of zeros?\\n')\n",
        "  n=input('What is the maximum number of ones?\\n')\n",
        "  m=int(m)\n",
        "  n=int(n)\n",
        "  print('The parameters provided indicate that the output will be:\\n')\n",
        "  print(Project_1_Evaluation(strs, m, n))"
      ],
      "metadata": {
        "id": "n13Mm7smO0km"
      },
      "execution_count": 1,
      "outputs": []
    },
    {
      "cell_type": "markdown",
      "source": [
        "Resource Allocation: The system will allocate resources such as vehicles and personnel to various departments based on their needs. The ones and zeroes algorithm developed by Student B will be used to optimize resource allocation based on the number of available resources and the number of tasks to be completed."
      ],
      "metadata": {
        "id": "HDyC4n71v1FD"
      }
    },
    {
      "cell_type": "code",
      "source": [
        "resource_allocation ()"
      ],
      "metadata": {
        "colab": {
          "base_uri": "https://localhost:8080/"
        },
        "id": "LBxHUNW_8E_V",
        "outputId": "de44e17e-c571-4748-b2dd-db3b26a39f5b"
      },
      "execution_count": 2,
      "outputs": [
        {
          "output_type": "stream",
          "name": "stdout",
          "text": [
            "How many instances of resources are there to accomodate?\n",
            "5\n",
            "What is the next binary value?\n",
            "10\n",
            "['10']\n",
            "What is the next binary value?\n",
            "0001\n",
            "['10', '0001']\n",
            "What is the next binary value?\n",
            "11101\n",
            "['10', '0001', '11101']\n",
            "What is the next binary value?\n",
            "1\n",
            "['10', '0001', '11101', '1']\n",
            "What is the next binary value?\n",
            "0\n",
            "['10', '0001', '11101', '1', '0']\n",
            "What is the maximum number of zeros?\n",
            "5\n",
            "What is the maximum number of ones?\n",
            "3\n",
            "The parameters provided indicate that the output will be:\n",
            "\n",
            "4\n"
          ]
        }
      ]
    },
    {
      "cell_type": "markdown",
      "source": [
        "**Example 1:**\n",
        "\n",
        "Input: strs = [\"10\", \"0001\", \"11101\", \"1\", \"0\"], m = 5, n = 3\n",
        "\n",
        "Expected Output: 4"
      ],
      "metadata": {
        "id": "_SA09Z0xXaui"
      }
    },
    {
      "cell_type": "code",
      "source": [
        "strs = [\"10\", \"0001\", \"11101\", \"1\", \"0\"]\n",
        "m = 5\n",
        "n = 3\n",
        "print(Project_1_Evaluation(strs, m, n))"
      ],
      "metadata": {
        "id": "QaSzVCaVWiyl"
      },
      "execution_count": null,
      "outputs": []
    },
    {
      "cell_type": "markdown",
      "source": [
        "**Example 2:**\n",
        "\n",
        "Input: strs = [\"10\", \"0\", \"1\"], m = 1, n = 1\n",
        "\n",
        "Expected Output: 2"
      ],
      "metadata": {
        "id": "gvzDi-mbXal-"
      }
    },
    {
      "cell_type": "code",
      "source": [
        "strs = [\"10\", \"0\", \"1\"]\n",
        "m = 1\n",
        "n = 1\n",
        "print(Project_1_Evaluation(strs, m, n))"
      ],
      "metadata": {
        "id": "-i11TgygXyEf"
      },
      "execution_count": null,
      "outputs": []
    }
  ]
}